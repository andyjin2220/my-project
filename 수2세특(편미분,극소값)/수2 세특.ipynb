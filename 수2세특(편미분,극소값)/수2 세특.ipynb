{
 "cells": [
  {
   "cell_type": "code",
   "execution_count": null,
   "metadata": {},
   "outputs": [],
   "source": [
    "import numpy as np\n",
    "import scipy.ndimage\n",
    "import rasterio\n",
    "import matplotlib.pyplot as plt\n",
    "\n",
    "# 1. DEM 데이터 읽기 (GeoTIFF 형식)\n",
    "dem_file = \"path_to_your_ngt.tif\"  # DEM 파일 경로\n",
    "with rasterio.open(dem_file) as src:\n",
    "    elevation_data = src.read(1)  # 첫 번째 밴드 (고도 정보)\n",
    "\n",
    "# 2. 편미분을 통한 기울기 계산 (x, y 방향)\n",
    "gradient_x = np.gradient(elevation_data, axis=0)  # x 방향 기울기\n",
    "gradient_y = np.gradient(elevation_data, axis=1)  # y 방향 기울기\n",
    "\n",
    "# 3. 기울기 벡터 크기 계산 (기울기의 크기를 통해 방향이 아닌 크기만을 다룸)\n",
    "gradient_magnitude = np.sqrt(gradient_x**2 + gradient_y**2)\n",
    "\n",
    "# 4. 기울기가 0에 가까운 지점 찾기 (극소값 후보)\n",
    "tolerance = 1e-3  # 기울기 0으로 간주할 기준 (너무 작은 값을 기울기 0으로 취급)\n",
    "local_minima = (np.abs(gradient_magnitude) < tolerance)  # 기울기가 0인 지점 찾기\n",
    "\n",
    "# 5. 극소값 위치 시각화\n",
    "fig, ax = plt.subplots(figsize=(8, 6))\n",
    "\n",
    "# 고도 데이터 시각화\n",
    "ax.imshow(elevation_data, cmap='terrain', interpolation='nearest')\n",
    "# 극소값 위치를 빨간 점으로 표시\n",
    "ax.scatter(np.where(local_minima)[1], np.where(local_minima)[0], color='red', s=10, label='Local Minima (Low points)')\n",
    "\n",
    "plt.title(\"3D Terrain Local Minima (Gradient = 0)\")\n",
    "plt.legend()\n",
    "plt.show()\n"
   ]
  }
 ],
 "metadata": {
  "language_info": {
   "name": "python"
  }
 },
 "nbformat": 4,
 "nbformat_minor": 2
}
